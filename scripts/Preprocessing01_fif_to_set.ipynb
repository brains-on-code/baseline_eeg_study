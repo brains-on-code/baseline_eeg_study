{
 "cells": [
  {
   "cell_type": "markdown",
   "metadata": {
    "pycharm": {
     "name": "#%% md\n"
    }
   },
   "source": [
    "# Preprocessing 01 - Data Preparation - Convert EEG .fif files to .set and .vhdr files\n",
    "## From replication package (Peitek et al.)\n",
    "\n",
    "## Import libraries"
   ]
  },
  {
   "cell_type": "code",
   "execution_count": null,
   "metadata": {
    "collapsed": false,
    "jupyter": {
     "outputs_hidden": false
    },
    "pycharm": {
     "name": "#%%\n"
    }
   },
   "outputs": [],
   "source": [
    "import os\n",
    "import mne\n",
    "from pybv import write_brainvision\n",
    "import numpy as np\n",
    "import regex as re\n",
    "from tqdm.notebook import tqdm"
   ]
  },
  {
   "cell_type": "markdown",
   "metadata": {
    "pycharm": {
     "name": "#%% md\n"
    }
   },
   "source": [
    "## Set Input directory, Path to Montage, and Channels to drop"
   ]
  },
  {
   "cell_type": "code",
   "execution_count": null,
   "metadata": {
    "collapsed": false,
    "jupyter": {
     "outputs_hidden": false
    },
    "pycharm": {
     "name": "#%%\n"
    }
   },
   "outputs": [],
   "source": [
    "filepath_out: str = \"./data/eeg_tmp/raw\"\n",
    "montage_path = \"./data/EEG/AC-64.bvef\"\n",
    "channels_to_drop = ['x_dir', 'y_dir', 'z_dir']"
   ]
  },
  {
   "cell_type": "markdown",
   "metadata": {
    "pycharm": {
     "name": "#%% md\n"
    }
   },
   "source": [
    "## Helper Functions For Transorming EEG .fif files to .set and .vhdr files"
   ]
  },
  {
   "cell_type": "code",
   "execution_count": null,
   "metadata": {
    "collapsed": false,
    "jupyter": {
     "outputs_hidden": false
    },
    "pycharm": {
     "name": "#%%\n"
    }
   },
   "outputs": [],
   "source": [
    "def load_fif_file(filename, filepath):\n",
    "    full_filename = os.path.join(filepath, filename)\n",
    "    return mne.io.read_raw_fif(fname=full_filename + '.fif', preload=True)\n",
    "\n",
    "\n",
    "def convert_fif_to_set(filename, load_from, save_to, number):\n",
    "    # load fif file\n",
    "    raw = load_fif_file(filename, load_from)\n",
    "\n",
    "    # load and set montage\n",
    "    montage = mne.channels.read_custom_montage(montage_path, head_size=0.085)\n",
    "    raw.set_montage(montage)\n",
    "\n",
    "    # drop channels that wont be used\n",
    "    raw.drop_channels(channels_to_drop)\n",
    "\n",
    "    # save data to eeglab format\n",
    "    savepath: str = os.path.join(save_to, filename + \"_\" + number + \".set\")\n",
    "    mne.export.export_raw(savepath, raw, 'eeglab', 'auto', overwrite=True, verbose=\"ERROR\")\n",
    "\n",
    "    # transform events to eeglab format\n",
    "    events = raw.info[\"events\"]\n",
    "    np_e = []\n",
    "    for e in events:\n",
    "        np_e.append([e['list'][0], e['list'][2]])\n",
    "\n",
    "    np_array = np.asarray(np_e)\n",
    "\n",
    "    # save events to eeglab format\n",
    "    channels = raw.ch_names\n",
    "    df = raw.get_data(channels)\n",
    "    filename = filename + \"_\" + number\n",
    "    write_brainvision(data=df, sfreq=500, ch_names=channels, folder_out=filepath_out, fname_base=filename, events=np_array, overwrite=True)"
   ]
  },
  {
   "cell_type": "markdown",
   "metadata": {
    "pycharm": {
     "name": "#%% md\n"
    }
   },
   "source": [
    "## Transform EEG .fif files to .set and .vhdr files"
   ]
  },
  {
   "cell_type": "code",
   "execution_count": null,
   "metadata": {
    "collapsed": false,
    "jupyter": {
     "outputs_hidden": false
    },
    "pycharm": {
     "name": "#%%\n"
    }
   },
   "outputs": [],
   "source": [
    "# get all folders in data/filteredData\n",
    "folders = [f.path for f in os.scandir('./data/rawData') if f.is_dir()]\n",
    "# extract the numbers\n",
    "folders = [f.split('/')[-1] for f in folders]\n",
    "numbers = [int(re.findall(r'\\d+', f)[0]) for f in folders]\n",
    "# numbers to str with leading zeros\n",
    "numbers = [str(n).zfill(1) for n in numbers]\n",
    "\n",
    "\n",
    "\n",
    "# iterate over all folders\n",
    "for number in tqdm(numbers):\n",
    "    print(\"-----------------------------------------------------------------------------------------\")\n",
    "    print(\"Participant \" + number)\n",
    "\n",
    "    if os.path.exists(\"./data/filteredData/Participant\" + number + \"/filtered_data.csv\"):\n",
    "        print(\"Skipped: Already processed\")\n",
    "        continue\n",
    "\n",
    "    # construct path to folder\n",
    "    load_from = \"./data/rawData/Participant\" + number\n",
    "    save_to = \"./data/eeg_tmp/raw\"\n",
    "    file_name = \"eeg_raw\"\n",
    "    # transform file via side effect\n",
    "    convert_fif_to_set(file_name, load_from, save_to, number)\n"
   ]
  }
 ],
 "metadata": {
  "kernelspec": {
   "display_name": "Python 3 (ipykernel)",
   "language": "python",
   "name": "python3"
  },
  "language_info": {
   "codemirror_mode": {
    "name": "ipython",
    "version": 3
   },
   "file_extension": ".py",
   "mimetype": "text/x-python",
   "name": "python",
   "nbconvert_exporter": "python",
   "pygments_lexer": "ipython3",
   "version": "3.8.10"
  }
 },
 "nbformat": 4,
 "nbformat_minor": 4
}