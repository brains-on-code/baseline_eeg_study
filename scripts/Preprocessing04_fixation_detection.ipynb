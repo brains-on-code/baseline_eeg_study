{
 "cells": [
  {
   "cell_type": "markdown",
   "metadata": {
    "pycharm": {
     "name": "#%% md\n"
    }
   },
   "source": [
    "# Preprocessing 06 - Fixation Detection\n",
    "## Partially from replication package (Peitek et al.)\n",
    "\n",
    "## Import Libraries"
   ]
  },
  {
   "cell_type": "code",
   "execution_count": null,
   "metadata": {
    "collapsed": false,
    "jupyter": {
     "outputs_hidden": false
    },
    "pycharm": {
     "name": "#%%\n"
    }
   },
   "outputs": [],
   "source": [
    "import os.path\n",
    "import I2MC\n",
    "import pandas as pd\n",
    "import numpy as np\n",
    "from tqdm.notebook import tqdm"
   ]
  },
  {
   "cell_type": "markdown",
   "metadata": {
    "pycharm": {
     "name": "#%% md\n"
    }
   },
   "source": [
    "## Set Options for I2MC algorithm"
   ]
  },
  {
   "cell_type": "code",
   "execution_count": null,
   "metadata": {
    "collapsed": false,
    "jupyter": {
     "outputs_hidden": false
    },
    "pycharm": {
     "name": "#%%\n"
    }
   },
   "outputs": [],
   "source": [
    "opt = dict()\n",
    "# General variables for eye-tracking data\n",
    "# maximum value of horizontal resolution in pixels\n",
    "opt['xres'] = 1920.0\n",
    "opt['yres'] = 1080.0  # maximum value of vertical resolution in pixels\n",
    "# missing value for horizontal position in eye-tracking data (example data uses -xres). used throughout\n",
    "# internal_helpers as signal for data loss\n",
    "opt['missingx'] = -opt['xres']\n",
    "# missing value for vertical position in eye-tracking data (example data uses -yres). used throughout\n",
    "# internal_helpers as signal for data loss\n",
    "opt['missingy'] = -opt['yres']\n",
    "# sampling frequency of data (check that this value matches with values actually obtained from measurement!)\n",
    "opt['freq'] = 250.0\n",
    "\n",
    "# Variables for the calculation of visual angle\n",
    "# These values are used to calculate noise measures (RMS and BCEA) of\n",
    "# fixations. The may be left as is, but don't use the noise measures then.\n",
    "# If either or both are empty, the noise measures are provided in pixels\n",
    "# instead of degrees.\n",
    "# screen size in cm\n",
    "opt['scrSz'] = [55.0, 32.5]\n",
    "# distance to screen in cm.\n",
    "opt['disttoscreen'] = 65.0\n",
    "\n",
    "# STEFFEN INTERPOLATION\n",
    "# max duration (s) of missing values for interpolation to occur\n",
    "opt['windowtimeInterp'] = 0.1\n",
    "# amount of data (number of samples) at edges needed for interpolation\n",
    "opt['edgeSampInterp'] = 2\n",
    "# maximum displacement during missing for interpolation to be possible\n",
    "opt['maxdisp'] = opt['xres'] * 0.2 * np.sqrt(2)\n",
    "\n",
    "# # K-MEANS CLUSTERING\n",
    "# time window (s) over which to calculate 2-means clustering (choose value so that max. 1 saccade can occur)\n",
    "opt['windowtime'] = 0.2\n",
    "# time window shift (s) for each iteration. Use zero for sample by sample processing\n",
    "opt['steptime'] = 0.02\n",
    "# maximum number of errors allowed in k-means clustering procedure before proceeding to next file\n",
    "opt['maxerrors'] = 100\n",
    "opt['downsamples'] = [2, 5, 10]\n",
    "# use chebychev filter when down sampling? 1: yes, 0: no. requires signal processing toolbox. is what matlab's\n",
    "# down sampling internal_helpers do, but could cause trouble (ringing) with the hard edges in eye-movement data\n",
    "opt['downsampFilter'] = False\n",
    "\n",
    "# # FIXATION DETERMINATION\n",
    "# number of standard deviations above mean k-means weights will be used as fixation cutoff\n",
    "opt['cutoffstd'] = 2.0\n",
    "# number of MAD away from median fixation duration. Will be used to walk forward at fixation starts and backward at\n",
    "# fixation ends to refine their placement and stop algorithm from eating into saccades\n",
    "opt['onoffsetThresh'] = 3.0\n",
    "# maximum Euclidean distance in pixels between fixations for merging\n",
    "opt['maxMergeDist'] = 40.0\n",
    "# maximum time in ms between fixations for merging\n",
    "opt['maxMergeTime'] = 60.0\n",
    "# minimum fixation duration after merging, fixations with shorter duration are removed from output\n",
    "opt['minFixDur'] = 90.0"
   ]
  },
  {
   "cell_type": "code",
   "execution_count": null,
   "outputs": [],
   "source": [
    "# Function to convert a string seperated by whitespace characters back to python list (from replication package)\n",
    "def string_to_list_string(data):\n",
    "    data = data.replace(' ', ',')\n",
    "    data = data.replace('\\n', ',')\n",
    "    data = ','.join([element for element in data.split(\",\") if len(element) > 0])\n",
    "    if data[1] == \",\":\n",
    "        data = \"[\" + data[2:]\n",
    "    return data\n",
    "\n",
    "# Read in the Behavioral Data\n",
    "df_filtered = pd.read_csv(\"./data/filteredData/filtered_data.csv\")\n",
    "\n",
    "# Setup Dataframe for storing fixation data\n",
    "if os.path.exists(\"./data/filteredData/fixation_stats.csv\"):\n",
    "    df_fixation = pd.read_csv(\"./data/filteredData/fixation_stats.csv\", sep=\";\")\n",
    "    # Transform fixation strings to lists\n",
    "    df_fixation[\"Fixation_startT\"] = df_fixation[\"Fixation_startT\"].apply(string_to_list_string)\n",
    "    df_fixation[\"Fixation_endT\"] = df_fixation[\"Fixation_endT\"].apply(string_to_list_string)\n",
    "    df_fixation[\"Fixation_x\"] = df_fixation[\"Fixation_x\"].apply(string_to_list_string)\n",
    "    df_fixation[\"Fixation_y\"] = df_fixation[\"Fixation_y\"].apply(string_to_list_string)\n",
    "    df_fixation[\"Fixation_x_range\"] = df_fixation[\"Fixation_x_range\"].apply(string_to_list_string)\n",
    "    df_fixation[\"Fixation_y_range\"] = df_fixation[\"Fixation_y_range\"].apply(string_to_list_string)\n",
    "else:\n",
    "    df_fixation = pd.DataFrame([], columns=[\"Participant\", \"Algorithm\", \"Type\", \"StartTime\", \"EndTime\", \"Fixation_startT\", \"Fixation_endT\",  \"Fixation_x\", \"Fixation_y\", \"Fixation_x_range\", \"Fixation_y_range\"])\n",
    "df_fixation"
   ],
   "metadata": {
    "collapsed": false,
    "pycharm": {
     "name": "#%%\n"
    }
   }
  },
  {
   "cell_type": "markdown",
   "metadata": {
    "pycharm": {
     "name": "#%% md\n"
    }
   },
   "source": [
    "## Iterate over every Algorithm - Participant and generate Fixation"
   ]
  },
  {
   "cell_type": "code",
   "execution_count": null,
   "metadata": {
    "collapsed": false,
    "jupyter": {
     "outputs_hidden": false
    },
    "pycharm": {
     "name": "#%%\n"
    }
   },
   "outputs": [],
   "source": [
    "#iterate through each row to generate fixation data for program comprehension\n",
    "for index, row in tqdm(df_filtered.iterrows(), total=len(df_filtered)):\n",
    "    if ((df_fixation['Participant'] == row['Participant']) & (df_fixation['Algorithm'] == row['Algorithm']) & (df_fixation['Type'] == \"PC\")).any():\n",
    "        continue\n",
    "\n",
    "    # read in eyetracking file\n",
    "    df_eyetracking = pd.read_csv(row[\"ProgramEyetracking\"])\n",
    "\n",
    "    # normalize the time regarding eyetracking to 0\n",
    "    df_eyetracking[\"time\"] = df_eyetracking[\"time\"].astype(float)\n",
    "    df_eyetracking[\"time\"] = df_eyetracking[\"time\"] - df_eyetracking[\"time\"].iloc[0]\n",
    "\n",
    "    # convert eyetracking data to display coordinates\n",
    "    df_eyetracking[\"l_display_x\"] = df_eyetracking[\"l_display_x\"].astype(float) * opt[\"xres\"]\n",
    "    df_eyetracking[\"l_display_y\"] = df_eyetracking[\"l_display_y\"].astype(float) * opt[\"yres\"]\n",
    "    df_eyetracking[\"r_display_x\"] = df_eyetracking[\"r_display_x\"].astype(float) * opt[\"xres\"]\n",
    "    df_eyetracking[\"r_display_y\"] = df_eyetracking[\"r_display_y\"].astype(float) * opt[\"yres\"]\n",
    "\n",
    "    # convert eyetracking data to I2MC valid flags\n",
    "    df_eyetracking[\"l_valid\"] = df_eyetracking[\"l_valid\"].astype(int)\n",
    "    df_eyetracking[\"r_valid\"] = df_eyetracking[\"r_valid\"].astype(int)\n",
    "\n",
    "    # convert miss column to right integer used by I2MC\n",
    "    df_eyetracking[\"l_miss_x\"] = df_eyetracking.apply(lambda row: row[\"l_display_x\"] < -opt[\"xres\"] or row[\"l_display_x\"] > 2 * opt[\"xres\"], axis=1)\n",
    "    df_eyetracking[\"l_miss_y\"] = df_eyetracking.apply(lambda row: row[\"l_display_y\"] < -opt[\"yres\"] or row[\"l_display_y\"] > 2 * opt[\"yres\"], axis=1)\n",
    "    df_eyetracking[\"r_miss_x\"] = df_eyetracking.apply(lambda row: row[\"r_display_x\"] < -opt[\"xres\"] or row[\"r_display_x\"] > 2 * opt[\"xres\"], axis=1)\n",
    "    df_eyetracking[\"r_miss_y\"] = df_eyetracking.apply(lambda row: row[\"r_display_y\"] < -opt[\"yres\"] or row[\"r_display_y\"] > 2 * opt[\"yres\"], axis=1)\n",
    "\n",
    "    df_eyetracking[\"l_miss\"] = df_eyetracking.apply(lambda row: row[\"l_miss_x\"] or row[\"l_miss_y\"] or not row[\"l_valid\"] >= 1, axis=1)\n",
    "    df_eyetracking[\"r_miss\"] = df_eyetracking.apply(lambda row: row[\"r_miss_x\"] or row[\"r_miss_y\"] or not row[\"r_valid\"] >= 1, axis=1)\n",
    "\n",
    "    # Set a default value for missing data\n",
    "    df_eyetracking.loc[df_eyetracking[\"l_miss\"], \"l_display_x\"] = opt[\"missingx\"]\n",
    "    df_eyetracking.loc[df_eyetracking[\"l_miss\"], \"l_display_y\"] = opt[\"missingy\"]\n",
    "    df_eyetracking.loc[df_eyetracking[\"r_miss\"], \"r_display_x\"] = opt[\"missingx\"]\n",
    "    df_eyetracking.loc[df_eyetracking[\"r_miss\"], \"r_display_y\"] = opt[\"missingy\"]\n",
    "\n",
    "    # drop unused columns\n",
    "    df_eyetracking = df_eyetracking.drop(columns=[\"l_miss_x\", \"l_miss_y\", \"r_miss_x\", \"r_miss_y\", \"l_miss\", \"r_miss\"])\n",
    "\n",
    "    # rename columns to match I2MC format\n",
    "    df_eyetracking.rename(columns={\"l_display_x\": \"L_X\",\n",
    "                                   \"l_display_y\": \"L_Y\",\n",
    "                                   \"r_display_x\": \"R_X\",\n",
    "                                   \"r_display_y\": \"R_Y\",\n",
    "                                   \"l_valid\" : \"LValidity\",\n",
    "                                   \"r_valid\" : \"RValidity\"}, inplace=True)\n",
    "\n",
    "    # Transform time to ms\n",
    "    df_eyetracking[\"time\"] = df_eyetracking[\"time\"].astype(float) * 1000.0\n",
    "\n",
    "    # df to dict of numpy array to be applicable to I2MC\n",
    "    data = {}\n",
    "    data[\"L_X\"] = df_eyetracking[\"L_X\"].to_numpy()\n",
    "    data[\"L_Y\"] = df_eyetracking[\"L_Y\"].to_numpy()\n",
    "    data[\"R_X\"] = df_eyetracking[\"R_X\"].to_numpy()\n",
    "    data[\"R_Y\"] = df_eyetracking[\"R_Y\"].to_numpy()\n",
    "    data[\"LValidity\"] = df_eyetracking[\"LValidity\"].to_numpy()\n",
    "    data[\"RValidity\"] = df_eyetracking[\"RValidity\"].to_numpy()\n",
    "    data[\"time\"] = df_eyetracking[\"time\"].to_numpy()\n",
    "\n",
    "    # run I2MC\n",
    "    try:\n",
    "        fix, data, par = I2MC.I2MC(data, opt, logging=False)\n",
    "    except Exception as e:\n",
    "        print('\\t\\tError in file: {}'.format(e))\n",
    "        continue\n",
    "\n",
    "    # Check if I2MC returned a fixation\n",
    "    if not fix:\n",
    "        print('{}-{}: Fixation calculation had some Problem'.format(row[\"Participant\"], row[\"Algorithm\"]))\n",
    "        continue\n",
    "\n",
    "    # save the fixation\n",
    "    # extract meta data\n",
    "    participant = row[\"Participant\"]\n",
    "    algorithm = row[\"Algorithm\"]\n",
    "    start_time = row[\"ProgramStartTime\"]\n",
    "    end_time = row[\"ProgramEndTime\"]\n",
    "\n",
    "    # extract fixation data\n",
    "    fixations_start_time = np.array(fix[\"startT\"])\n",
    "    fixations_end_time = np.array(fix[\"endT\"])\n",
    "    fixations_x_pos = np.array(fix[\"xpos\"])\n",
    "    fixations_y_pos = np.array(fix[\"ypos\"])\n",
    "    fixations_x_range = np.array(fix[\"fixRangeX\"])\n",
    "    fixations_y_range = np.array(fix[\"fixRangeY\"])\n",
    "\n",
    "    # append data to dataframe\n",
    "    df_fixation.loc[len(df_fixation)] = [participant, algorithm, \"PC\", start_time, end_time, fixations_start_time, fixations_end_time, fixations_x_pos, fixations_y_pos, fixations_x_range, fixations_y_range]\n"
   ]
  },
  {
   "cell_type": "code",
   "execution_count": null,
   "outputs": [],
   "source": [
    "# Iterate through each row to generate fixation data for baseline\n",
    "for index, row in tqdm(df_filtered.iterrows(), total=len(df_filtered)):\n",
    "    if ((df_fixation['Participant'] == row['Participant']) & (df_fixation['Algorithm'] == row['Algorithm']) & (df_fixation['Type'] == \"Baseline\")).any():\n",
    "        continue\n",
    "\n",
    "    # read in eyetracking file\n",
    "    df_eyetracking = pd.read_csv(row[\"BaselineEyetracking\"])\n",
    "\n",
    "    # normalize the time regarding eyetracking to 0\n",
    "    df_eyetracking[\"time\"] = df_eyetracking[\"time\"].astype(float)\n",
    "    df_eyetracking[\"time\"] = df_eyetracking[\"time\"] - df_eyetracking[\"time\"].iloc[0]\n",
    "\n",
    "    # convert eyetracking data to display coordinates\n",
    "    df_eyetracking[\"l_display_x\"] = df_eyetracking[\"l_display_x\"].astype(float) * opt[\"xres\"]\n",
    "    df_eyetracking[\"l_display_y\"] = df_eyetracking[\"l_display_y\"].astype(float) * opt[\"yres\"]\n",
    "    df_eyetracking[\"r_display_x\"] = df_eyetracking[\"r_display_x\"].astype(float) * opt[\"xres\"]\n",
    "    df_eyetracking[\"r_display_y\"] = df_eyetracking[\"r_display_y\"].astype(float) * opt[\"yres\"]\n",
    "\n",
    "    # convert eyetracking data to I2MC valid flags\n",
    "    df_eyetracking[\"l_valid\"] = df_eyetracking[\"l_valid\"].astype(int)\n",
    "    df_eyetracking[\"r_valid\"] = df_eyetracking[\"r_valid\"].astype(int)\n",
    "\n",
    "    # convert miss column to right integer used by I2MC\n",
    "    df_eyetracking[\"l_miss_x\"] = df_eyetracking.apply(lambda row: row[\"l_display_x\"] < -opt[\"xres\"] or row[\"l_display_x\"] > 2 * opt[\"xres\"], axis=1)\n",
    "    df_eyetracking[\"l_miss_y\"] = df_eyetracking.apply(lambda row: row[\"l_display_y\"] < -opt[\"yres\"] or row[\"l_display_y\"] > 2 * opt[\"yres\"], axis=1)\n",
    "    df_eyetracking[\"r_miss_x\"] = df_eyetracking.apply(lambda row: row[\"r_display_x\"] < -opt[\"xres\"] or row[\"r_display_x\"] > 2 * opt[\"xres\"], axis=1)\n",
    "    df_eyetracking[\"r_miss_y\"] = df_eyetracking.apply(lambda row: row[\"r_display_y\"] < -opt[\"yres\"] or row[\"r_display_y\"] > 2 * opt[\"yres\"], axis=1)\n",
    "\n",
    "    df_eyetracking[\"l_miss\"] = df_eyetracking.apply(lambda row: row[\"l_miss_x\"] or row[\"l_miss_y\"] or not row[\"l_valid\"] >= 1, axis=1)\n",
    "    df_eyetracking[\"r_miss\"] = df_eyetracking.apply(lambda row: row[\"r_miss_x\"] or row[\"r_miss_y\"] or not row[\"r_valid\"] >= 1, axis=1)\n",
    "\n",
    "    # Set a default value for missing data\n",
    "    df_eyetracking.loc[df_eyetracking[\"l_miss\"], \"l_display_x\"] = opt[\"missingx\"]\n",
    "    df_eyetracking.loc[df_eyetracking[\"l_miss\"], \"l_display_y\"] = opt[\"missingy\"]\n",
    "    df_eyetracking.loc[df_eyetracking[\"r_miss\"], \"r_display_x\"] = opt[\"missingx\"]\n",
    "    df_eyetracking.loc[df_eyetracking[\"r_miss\"], \"r_display_y\"] = opt[\"missingy\"]\n",
    "\n",
    "    # drop unused columns\n",
    "    df_eyetracking = df_eyetracking.drop(columns=[\"l_miss_x\", \"l_miss_y\", \"r_miss_x\", \"r_miss_y\", \"l_miss\", \"r_miss\"])\n",
    "\n",
    "    # rename columns to match I2MC format\n",
    "    df_eyetracking.rename(columns={\"l_display_x\": \"L_X\",\n",
    "                                   \"l_display_y\": \"L_Y\",\n",
    "                                   \"r_display_x\": \"R_X\",\n",
    "                                   \"r_display_y\": \"R_Y\",\n",
    "                                   \"l_valid\" : \"LValidity\",\n",
    "                                   \"r_valid\" : \"RValidity\"}, inplace=True)\n",
    "\n",
    "    # Transform time to ms\n",
    "    df_eyetracking[\"time\"] = df_eyetracking[\"time\"].astype(float) * 1000.0\n",
    "\n",
    "    # df to dict of numpy array to be applicable to I2MC\n",
    "    data = {}\n",
    "    data[\"L_X\"] = df_eyetracking[\"L_X\"].to_numpy()\n",
    "    data[\"L_Y\"] = df_eyetracking[\"L_Y\"].to_numpy()\n",
    "    data[\"R_X\"] = df_eyetracking[\"R_X\"].to_numpy()\n",
    "    data[\"R_Y\"] = df_eyetracking[\"R_Y\"].to_numpy()\n",
    "    data[\"LValidity\"] = df_eyetracking[\"LValidity\"].to_numpy()\n",
    "    data[\"RValidity\"] = df_eyetracking[\"RValidity\"].to_numpy()\n",
    "    data[\"time\"] = df_eyetracking[\"time\"].to_numpy()\n",
    "\n",
    "    # run I2MC\n",
    "    try:\n",
    "        fix, data, par = I2MC.I2MC(data, opt, logging=False)\n",
    "    except Exception as e:\n",
    "        print('\\t\\tError in file: {}'.format(e))\n",
    "        continue\n",
    "\n",
    "    # Check if I2MC returned a fixation\n",
    "    if not fix:\n",
    "        print('{}-{}: Fixation calculation had some Problem'.format(row[\"Participant\"], row[\"Algorithm\"]))\n",
    "        continue\n",
    "\n",
    "    # save the fixation\n",
    "    # extract meta data\n",
    "    participant = row[\"Participant\"]\n",
    "    algorithm = row[\"Algorithm\"]\n",
    "    start_time = row[\"BaselineStartTime\"]\n",
    "    end_time = row[\"BaselineEndTime\"]\n",
    "\n",
    "    # extract fixation data\n",
    "    fixations_start_time = np.array(fix[\"startT\"])\n",
    "    fixations_end_time = np.array(fix[\"endT\"])\n",
    "    fixations_x_pos = np.array(fix[\"xpos\"])\n",
    "    fixations_y_pos = np.array(fix[\"ypos\"])\n",
    "    fixations_x_range = np.array(fix[\"fixRangeX\"])\n",
    "    fixations_y_range = np.array(fix[\"fixRangeY\"])\n",
    "\n",
    "    # append data to dataframe\n",
    "    df_fixation.loc[len(df_fixation)] = [participant, algorithm, \"Baseline\", start_time, end_time, fixations_start_time, fixations_end_time, fixations_x_pos, fixations_y_pos, fixations_x_range, fixations_y_range]"
   ],
   "metadata": {
    "collapsed": false,
    "pycharm": {
     "name": "#%%\n"
    }
   }
  },
  {
   "cell_type": "markdown",
   "metadata": {
    "pycharm": {
     "name": "#%% md\n"
    }
   },
   "source": [
    "## Transform Fixation Lists to savable string for csv"
   ]
  },
  {
   "cell_type": "code",
   "execution_count": null,
   "outputs": [],
   "source": [
    "# Transform the lists to strings\n",
    "df_fixation[\"Fixation_startT\"] = df_fixation[\"Fixation_startT\"].astype(str)\n",
    "df_fixation[\"Fixation_endT\"] = df_fixation[\"Fixation_endT\"].astype(str)\n",
    "df_fixation[\"Fixation_x\"] = df_fixation[\"Fixation_x\"].astype(str)\n",
    "df_fixation[\"Fixation_y\"] = df_fixation[\"Fixation_y\"].astype(str)\n",
    "df_fixation[\"Fixation_x_range\"] = df_fixation[\"Fixation_x_range\"].astype(str)\n",
    "df_fixation[\"Fixation_y_range\"] = df_fixation[\"Fixation_y_range\"].astype(str)\n",
    "\n",
    "# Save the data\n",
    "df_fixation.to_csv(\"./data/filteredData/fixation_stats.csv\", index=False, sep=\";\")"
   ],
   "metadata": {
    "collapsed": false,
    "pycharm": {
     "name": "#%%\n"
    }
   }
  }
 ],
 "metadata": {
  "kernelspec": {
   "display_name": "Python 3 (ipykernel)",
   "language": "python",
   "name": "python3"
  },
  "language_info": {
   "codemirror_mode": {
    "name": "ipython",
    "version": 3
   },
   "file_extension": ".py",
   "mimetype": "text/x-python",
   "name": "python",
   "nbconvert_exporter": "python",
   "pygments_lexer": "ipython3",
   "version": "3.8.10"
  }
 },
 "nbformat": 4,
 "nbformat_minor": 4
}