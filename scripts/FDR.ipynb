{
 "cells": [
  {
   "cell_type": "markdown",
   "id": "64ada46a",
   "metadata": {},
   "source": [
    "## FDR "
   ]
  },
  {
   "cell_type": "markdown",
   "id": "bdea17ca",
   "metadata": {},
   "source": [
    "### Import libraries"
   ]
  },
  {
   "cell_type": "code",
   "execution_count": null,
   "id": "1ccf2251",
   "metadata": {},
   "outputs": [],
   "source": [
    "import mne\n",
    "import numpy as np\n",
    "import scipy.signal as signal\n",
    "import pandas as pd\n",
    "import matplotlib\n",
    "import matplotlib.pyplot as plt\n",
    "import scipy.version\n",
    "import sklearn\n",
    "from matplotlib.patches import Circle, Rectangle\n",
    "from scipy.integrate import simps\n",
    "import scipy.stats as stats\n",
    "from tqdm.notebook import tqdm\n",
    "import os\n",
    "import math\n",
    "import itertools\n",
    "from PIL import Image\n",
    "import re\n",
    "import shutil\n",
    "from numpy import nan\n",
    "from cliffs_delta import cliffs_delta\n",
    "\n",
    "STYLES = [(0, (5, 1)),(0, (3, 1, 1, 1)),(0, (1, 1)),(0, (3, 1, 1, 1, 1, 1)),(0, ())]\n",
    "COLORS = [\"darkred\",\"darkorange\",\"darkcyan\",\"green\",\"y\"]\n",
    "matplotlib.rcParams['pdf.fonttype'] = 42\n",
    "matplotlib.rcParams['ps.fonttype'] = 42\n",
    "matplotlib.rcParams['mathtext.default']='regular'"
   ]
  },
  {
   "cell_type": "code",
   "execution_count": null,
   "id": "9f3e9ade",
   "metadata": {},
   "outputs": [],
   "source": [
    "print(f\"Matplotlib: {matplotlib.__version__}\")\n",
    "print(f\"Numpy: {np.__version__}\")\n",
    "print(f\"Pandas: {pd.__version__}\")\n",
    "print(f\"MNE: {mne.__version__}\")\n",
    "print(f\"Scipy: {scipy.__version__}\")\n",
    "print(f\"SKLearn: {sklearn.__version__}\")"
   ]
  },
  {
   "cell_type": "code",
   "execution_count": null,
   "id": "c4cd353a",
   "metadata": {},
   "outputs": [],
   "source": [
    "# Read data\n",
    "# Create dataframe\n",
    "df_significance_averaged = pd.read_csv(\"../plots/statistics/significance_no_baseline_correction.csv\", sep=\";\")\n",
    "df_significance_averaged_mb = pd.read_csv(\"../plots/statistics/significance_with_baseline_correction.csv\", sep=\";\")\n",
    "df_significance_averaged_raw = pd.read_csv(\"../plots/statistics/significance_raw.csv\", sep=\";\")\n"
   ]
  },
  {
   "cell_type": "code",
   "execution_count": null,
   "id": "3c3fe090",
   "metadata": {},
   "outputs": [],
   "source": [
    "# FDR\n",
    "# FDR: see https://docs.scipy.org/doc/scipy/reference/generated/scipy.stats.false_discovery_control.html\n",
    "df_significance_averaged_fdr_bh = stats.false_discovery_control(list(df_significance_averaged[\"MWU_pValue\"][0:-1]), method='bh')\n",
    "\n",
    "df_significance_averaged_fdr_bh = list(df_significance_averaged_fdr_bh)\n",
    "df_significance_averaged_fdr_bh.append(42) # some random value to meet the number of values\n",
    "df_significance_averaged.insert(len(df_significance_averaged.columns), \"FDR(bh)\", df_significance_averaged_fdr_bh)\n",
    "df_significance_averaged_mb_fdr_bh = stats.false_discovery_control(list(df_significance_averaged_mb[\"MWU_pValue\"][0:-1]), method='bh')\n",
    "\n",
    "df_significance_averaged_mb_fdr_bh = list(df_significance_averaged_mb_fdr_bh)\n",
    "df_significance_averaged_mb_fdr_bh.append(42) # some random value to meet the number of values\n",
    "df_significance_averaged_mb.insert(len(df_significance_averaged_mb.columns), \"FDR(bh)\", df_significance_averaged_mb_fdr_bh)\n",
    "df_significance_averaged_raw_fdr_bh = stats.false_discovery_control(list(df_significance_averaged_raw[\"MWU_pValue\"][0:-1]), method='bh')\n",
    "\n",
    "df_significance_averaged_raw_fdr_bh = list(df_significance_averaged_raw_fdr_bh)\n",
    "df_significance_averaged_raw_fdr_bh.append(7)\n",
    "df_significance_averaged_raw_fdr_by = list(df_significance_averaged_raw_fdr_by)\n",
    "df_significance_averaged_raw_fdr_by.append(7)\n",
    "\n",
    "df_significance_averaged_raw.insert(len(df_significance_averaged_raw.columns), \"FDR(bh)\", df_significance_averaged_raw_fdr_bh)\n",
    "df_significance_averaged_raw.insert(len(df_significance_averaged_raw.columns), \"FDR(by)\", df_significance_averaged_raw_fdr_by)"
   ]
  },
  {
   "cell_type": "code",
   "execution_count": null,
   "id": "e650b3c8",
   "metadata": {},
   "outputs": [],
   "source": [
    "# Save dataframe to file\n",
    "df_significance_averaged.to_csv(\"../plots/statistics/fdr_significance_no_baseline_correction.csv\", sep=\";\", index=False)\n",
    "df_significance_averaged_mb.to_csv(\"../plots/statistics/fdr_significance_with_baseline_correction.csv\", sep=\";\", index=False)\n",
    "df_significance_averaged_raw.to_csv(\"../plots/statistics/fdr_significance_raw.csv\", sep=\";\", index=False)"
   ]
  },
  {
   "cell_type": "code",
   "execution_count": null,
   "id": "85c83210",
   "metadata": {},
   "outputs": [],
   "source": []
  }
 ],
 "metadata": {
  "kernelspec": {
   "display_name": "Python 3 (ipykernel)",
   "language": "python",
   "name": "python3"
  },
  "language_info": {
   "codemirror_mode": {
    "name": "ipython",
    "version": 3
   },
   "file_extension": ".py",
   "mimetype": "text/x-python",
   "name": "python",
   "nbconvert_exporter": "python",
   "pygments_lexer": "ipython3",
   "version": "3.9.12"
  }
 },
 "nbformat": 4,
 "nbformat_minor": 5
}
